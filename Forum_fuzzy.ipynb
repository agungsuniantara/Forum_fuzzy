{
  "nbformat": 4,
  "nbformat_minor": 0,
  "metadata": {
    "colab": {
      "name": "Forum_fuzzy.ipynb",
      "provenance": []
    },
    "kernelspec": {
      "name": "python3",
      "display_name": "Python 3"
    },
    "language_info": {
      "name": "python"
    }
  },
  "cells": [
    {
      "cell_type": "code",
      "execution_count": null,
      "metadata": {
        "id": "_zTTE7cF4lVy"
      },
      "outputs": [],
      "source": [
        "def sedikit(b,a,x):\n",
        "    if(x<=a):\n",
        "        nilai = 1\n",
        "    elif(x>a and x<b):\n",
        "        nilai = (b-x)/(b-a)\n",
        "    elif(x>=b):\n",
        "        nilai = 0\n",
        "\n",
        "    return nilai"
      ]
    },
    {
      "cell_type": "code",
      "source": [
        "def banyak(b,a,x):\n",
        "    if(x<=a):\n",
        "        nilai = 0\n",
        "    elif(x>a and x<b):\n",
        "        nilai = (x-a)/(b-a)\n",
        "    elif(x>=b):\n",
        "        nilai = 1\n",
        "\n",
        "    return nilai"
      ],
      "metadata": {
        "id": "75VIEBcn4qEV"
      },
      "execution_count": null,
      "outputs": []
    },
    {
      "cell_type": "code",
      "source": [
        "def agregasi_sedikit(b,a,alfa):\n",
        "    nilai = b - (alfa*(b-a))\n",
        "    return nilai"
      ],
      "metadata": {
        "id": "U4yCs-Ao473c"
      },
      "execution_count": null,
      "outputs": []
    },
    {
      "cell_type": "code",
      "source": [
        "def agregasi_banyak(b,a,alfa):\n",
        "    nilai = alfa*(b-a) + a\n",
        "    return nilai\n"
      ],
      "metadata": {
        "id": "0c056aDX5Ce0"
      },
      "execution_count": null,
      "outputs": []
    },
    {
      "cell_type": "code",
      "source": [
        "var = int(input(\"Jumlah variabel: \"))\n",
        "\n",
        "nama_var = []\n",
        "for i in range(var):\n",
        "    nama = input(\"Sebutkan nama variabel: \")\n",
        "    nama_var.append(nama)"
      ],
      "metadata": {
        "colab": {
          "base_uri": "https://localhost:8080/"
        },
        "id": "HPkKD-5j5H6j",
        "outputId": "77ce6004-22e4-4e9e-e4ea-ab26c7f3e756"
      },
      "execution_count": null,
      "outputs": [
        {
          "name": "stdout",
          "output_type": "stream",
          "text": [
            "Jumlah variabel: 5\n",
            "Sebutkan nama variabel: waktu\n",
            "Sebutkan nama variabel: nilai\n",
            "Sebutkan nama variabel: jumlah\n",
            "Sebutkan nama variabel: postingan\n",
            "Sebutkan nama variabel: ranking\n"
          ]
        }
      ]
    },
    {
      "cell_type": "code",
      "source": [
        "variabel = dict()\n",
        "for i in nama_var:\n",
        "    print(i)\n",
        "    up = int(input(\"banyak : \"))\n",
        "    down = int(input(\"sedikit : \"))\n",
        "    variabel.update({i+\"_banyak\":up})\n",
        "    variabel.update({i+\"_sedikit\":down})\n",
        "    \n",
        "print(variabel)"
      ],
      "metadata": {
        "colab": {
          "base_uri": "https://localhost:8080/"
        },
        "id": "MmUAvKGu5QGd",
        "outputId": "0b719574-b979-43ca-e091-f193fce7689d"
      },
      "execution_count": null,
      "outputs": [
        {
          "output_type": "stream",
          "name": "stdout",
          "text": [
            "waktu\n",
            "banyak : 24\n",
            "sedikit : 6\n",
            "nilai\n",
            "banyak : 80\n",
            "sedikit : 60\n",
            "jumlah\n",
            "banyak : 15\n",
            "sedikit : 5\n",
            "postingan\n",
            "banyak : 15\n",
            "sedikit : 5\n",
            "ranking\n",
            "banyak : 3\n",
            "sedikit : 1\n",
            "{'waktu_banyak': 24, 'waktu_sedikit': 6, 'nilai_banyak': 80, 'nilai_sedikit': 60, 'jumlah_banyak': 15, 'jumlah_sedikit': 5, 'postingan_banyak': 15, 'postingan_sedikit': 5, 'ranking_banyak': 3, 'ranking_sedikit': 1}\n"
          ]
        }
      ]
    },
    {
      "cell_type": "code",
      "source": [
        "soal = dict()\n",
        "\n",
        "jml = int(input(\"Jumlah variabel yang diketahui : \"))\n",
        "\n",
        "for i in range(jml):\n",
        "    ver = input(\"Nama variabel : \")\n",
        "    val = int(input(\"Nilai : \"))   \n",
        "    soal.update({ver:val})\n",
        "    \n",
        "print(soal)\n",
        "\n",
        "dit = input(\"Variabel yang ditanyakan : \")"
      ],
      "metadata": {
        "colab": {
          "base_uri": "https://localhost:8080/"
        },
        "id": "Qxmjjxry5vjU",
        "outputId": "42571999-ad0b-4fb6-dbe6-b2ae666a6097"
      },
      "execution_count": null,
      "outputs": [
        {
          "name": "stdout",
          "output_type": "stream",
          "text": [
            "Jumlah variabel yang diketahui : 4\n",
            "Nama variabel : waktu\n",
            "Nilai : 3\n",
            "Nama variabel : nilai\n",
            "Nilai : 70\n",
            "Nama variabel : jumlah\n",
            "Nilai : 8\n",
            "Nama variabel : postingan\n",
            "Nilai : 8\n",
            "{'waktu': 3, 'nilai': 70, 'jumlah': 8, 'postingan': 8}\n",
            "Variabel yang ditanyakan : ranking\n"
          ]
        }
      ]
    },
    {
      "cell_type": "code",
      "source": [
        "nk = dict()\n",
        "for i in soal:\n",
        "    up = banyak(variabel[i+\"_banyak\"],variabel[i+\"_sedikit\"],soal[i])\n",
        "    down = sedikit(variabel[i+\"_banyak\"],variabel[i+\"_sedikit\"],soal[i])\n",
        "    nk.update({i+\"_banyak\":up})\n",
        "    nk.update({i+\"_sedikit\":down})\n",
        "\n",
        "print(nk)"
      ],
      "metadata": {
        "colab": {
          "base_uri": "https://localhost:8080/"
        },
        "id": "4TtNBZTQ6LRM",
        "outputId": "3a05ec8c-508b-40fd-e92c-84e4fd216f90"
      },
      "execution_count": null,
      "outputs": [
        {
          "output_type": "stream",
          "name": "stdout",
          "text": [
            "{'waktu_banyak': 0, 'waktu_sedikit': 1, 'nilai_banyak': 0.5, 'nilai_sedikit': 0.5, 'jumlah_banyak': 0.3, 'jumlah_sedikit': 0.7, 'postingan_banyak': 0.3, 'postingan_sedikit': 0.7}\n"
          ]
        }
      ]
    },
    {
      "cell_type": "code",
      "source": [
        "alfa = []\n",
        "z = []\n",
        "\n",
        "r = int(input(\"Masukkan jumlah peraturan : \"))\n",
        "\n",
        "for i in range(r):\n",
        "    kondisi1 = input(\"Kondisi 1(sedikit/banyak): \")\n",
        "    kondisi2 = input(\"Kondisi 2(sedikit/banyak): \")\n",
        "    kondisi3 = input(\"Kondisi 3(sedikit/banyak): \")\n",
        "    kondisi4 = input(\"Kondisi 4(sedikit/banyak): \")\n",
        "    kesimpulan = input(\"Kesimpulan(sedikit/banyak): \")\n",
        "    #Fire Strength INTERSEKSI (AND)\n",
        "    a = min(nk[kondisi1],nk[kondisi2]) \n",
        "    alfa.append(a)\n",
        "    if(kesimpulan == \"sedikit\"):\n",
        "        zz = agregasi_sedikit(variabel[dit+\"_banyak\"],variabel[dit+\"_sedikit\"],a)\n",
        "    elif(kesimpulan == \"banyak\"):\n",
        "        zz = agregasi_banyak(variabel[dit+\"_banyak\"],variabel[dit+\"_sedikit\"],a)        \n",
        "    z.append(zz)"
      ],
      "metadata": {
        "colab": {
          "base_uri": "https://localhost:8080/"
        },
        "id": "ssGKYd6a6eT9",
        "outputId": "daa765c6-7369-474f-c184-06bcb03bfe5e"
      },
      "execution_count": null,
      "outputs": [
        {
          "name": "stdout",
          "output_type": "stream",
          "text": [
            "Masukkan jumlah peraturan : 2\n",
            "Kondisi 1(sedikit/banyak): waktu_sedikit\n",
            "Kondisi 2(sedikit/banyak): jumlah_banyak\n",
            "Kondisi 3(sedikit/banyak): nilai_banyak\n",
            "Kondisi 4(sedikit/banyak): postingan_banyak\n",
            "Kesimpulan(sedikit/banyak): banyak\n",
            "Kondisi 1(sedikit/banyak): waktu_banyak\n",
            "Kondisi 2(sedikit/banyak): jumlah_sedikit\n",
            "Kondisi 3(sedikit/banyak): nilai_sedikit\n",
            "Kondisi 4(sedikit/banyak): postingan_sedikit\n",
            "Kesimpulan(sedikit/banyak): sedikit\n"
          ]
        }
      ]
    },
    {
      "cell_type": "code",
      "source": [
        "print(alfa)\n",
        "print(z)"
      ],
      "metadata": {
        "colab": {
          "base_uri": "https://localhost:8080/"
        },
        "id": "DcsMWnd-8E88",
        "outputId": "cb51722a-bf6b-4374-92fa-39221128fd57"
      },
      "execution_count": null,
      "outputs": [
        {
          "output_type": "stream",
          "name": "stdout",
          "text": [
            "[0.3, 0]\n",
            "[1.6, 3]\n"
          ]
        }
      ]
    },
    {
      "cell_type": "code",
      "source": [
        "#DEFUZIFIKASI\n",
        "df = 0\n",
        "\n",
        "for i in range(len(alfa)):\n",
        "    df += alfa[i]*z[i]\n",
        "\n",
        "defuz = int(df/sum(alfa))\n",
        "\n",
        "print(\"Jadi, nilai \",dit,\" adalah \",defuz)"
      ],
      "metadata": {
        "colab": {
          "base_uri": "https://localhost:8080/"
        },
        "id": "EMUMLnrj8JVb",
        "outputId": "c51da3de-16fd-4ae8-c363-8e4e938d6bcc"
      },
      "execution_count": null,
      "outputs": [
        {
          "output_type": "stream",
          "name": "stdout",
          "text": [
            "Jadi, nilai  ranking  adalah  1\n"
          ]
        }
      ]
    }
  ]
}